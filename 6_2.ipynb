{
  "nbformat": 4,
  "nbformat_minor": 0,
  "metadata": {
    "colab": {
      "provenance": []
    },
    "kernelspec": {
      "name": "python3",
      "display_name": "Python 3"
    },
    "language_info": {
      "name": "python"
    }
  },
  "cells": [
    {
      "cell_type": "code",
      "execution_count": null,
      "metadata": {
        "colab": {
          "base_uri": "https://localhost:8080/"
        },
        "id": "Sf0GDb2z8lHt",
        "outputId": "189230b0-e180-486d-ebcd-85b561fe4a0a"
      },
      "outputs": [
        {
          "output_type": "stream",
          "name": "stdout",
          "text": [
            "Фактическая вероятность вымирания за 200 шагов: 0.24\n",
            "Теоретическая вероятность вымирания: 0.25\n"
          ]
        }
      ],
      "source": [
        "import numpy as np\n",
        "import math\n",
        "import matplotlib.pyplot as plt\n",
        "import scipy.stats as ss\n",
        "from scipy import linalg\n",
        "import statistics as st\n",
        "import pandas as pd\n",
        "\n",
        "#1#\n",
        "n = 10\n",
        "m = 200\n",
        "p = 1/5\n",
        "Z = [0]*n\n",
        "Z[0] = 1\n",
        "deaths = 0\n",
        "rng = np.random.default_rng()\n",
        "for j in range(m):\n",
        "  for i in range(1,n):\n",
        "    Z[i] = sum(rng.geometric(p, size=Z[i-1])) - Z[i-1]\n",
        "    #print(Z[i])\n",
        "    if(Z[i]==0):\n",
        "      deaths+=1\n",
        "      #print(\"Коичество поколений: \", i)\n",
        "      break\n",
        "  Z = [0]*n\n",
        "  Z[0] = 1\n",
        "#if (A == 1):\n",
        " # theor = n/(n+1)\n",
        "#else:\n",
        " # theor = 1 - (A**n*(1-A))/(1-A**(n+1))\n",
        "theor = min(p/(1-p), 1)\n",
        "\n",
        "\n",
        "print(\"Фактическая вероятность вымирания за\", m,\"шагов:\", deaths/m)\n",
        "print(\"Теоретическая вероятность вымирания:\", theor)"
      ]
    },
    {
      "cell_type": "code",
      "source": [
        "#2#\n",
        "n = 1000\n",
        "m = 50\n",
        "p = 1/2\n",
        "Z = [0]*n\n",
        "Z[0] = 1\n",
        "deaths = 0\n",
        "print(\"Критический случай:\")\n",
        "for j in range(m):\n",
        "  for i in range(1,n):\n",
        "    Z[i] = sum(rng.geometric(p, size=Z[i-1])) - Z[i-1]\n",
        "    if(Z[i]==0):\n",
        "      deaths+=1\n",
        "      break\n",
        "  if(Z[49]!=0):\n",
        "    print(\"50 поколение:\", Z[49], \"потомков\")\n",
        "  Z = [0]*n\n",
        "  Z[0] = 1\n",
        "print(\"Докритический случай p = 2/3:\")\n",
        "p_1 = 2/3\n",
        "for j in range(m):\n",
        "  for i in range(1,n):\n",
        "    Z[i] = sum(rng.geometric(p, size=Z[i-1])) - Z[i-1]\n",
        "    if(Z[i]==0):\n",
        "      deaths+=1\n",
        "      break\n",
        "  if(Z[49]!=0):\n",
        "    print(\"50 поколение:\", Z[49], \"потомков\")\n",
        "  Z = [0]*n\n",
        "  Z[0] = 1\n",
        "print(\"Докритический случай p = 3/4:\")\n",
        "p_2 = 3/4\n",
        "for j in range(m):\n",
        "  for i in range(1,n):\n",
        "    Z[i] = sum(rng.geometric(p, size=Z[i-1])) - Z[i-1]\n",
        "    if(Z[i]==0):\n",
        "      deaths+=1\n",
        "      break\n",
        "  if(Z[49]!=0):\n",
        "    print(\"50 поколение:\", Z[49], \"потомков\")\n",
        "  Z = [0]*n\n",
        "  Z[0] = 1"
      ],
      "metadata": {
        "colab": {
          "base_uri": "https://localhost:8080/"
        },
        "id": "zSqd1QxsGU3t",
        "outputId": "42e67665-8f20-4dd7-cea3-712adb7cec42"
      },
      "execution_count": null,
      "outputs": [
        {
          "output_type": "stream",
          "name": "stdout",
          "text": [
            "Критический случай:\n",
            "50 поколение: 52 потомков\n",
            "Докритический случай p = 2/3:\n",
            "50 поколение: 5 потомков\n",
            "50 поколение: 47 потомков\n",
            "50 поколение: 63 потомков\n",
            "Докритический случай p = 3/4:\n",
            "50 поколение: 24 потомков\n"
          ]
        }
      ]
    },
    {
      "cell_type": "code",
      "source": [
        "#2#\n",
        "n = 1000\n",
        "m = 50\n",
        "p = 1/2\n",
        "Z = [0]*m\n",
        "Z[0] = 1\n",
        "alive = 0\n",
        "for j in range(n):\n",
        "  for i in range(1,m):\n",
        "    Z[i] = sum(np.random.geometric(p, size = Z[i-1]) - 1)\n",
        "    if(Z[i]==0):\n",
        "      break\n",
        "  if Z[49]!=0:\n",
        "    print(Z)\n",
        "    alive+=1\n",
        "  Z = [0]*m\n",
        "  Z[0] = 1\n",
        "print(\"Выжили в критическом:\", alive) #в соответствии с теоремой об асимптотике в критическом случае траектории не вымрут с вероятностью близкой к 1/m*DX, то есть с вероятностью 1/50 траектория выживет, что и видно, за 1000 генераций выживает около 50 страекторий#\n",
        "\n",
        "p = 0.505\n",
        "Z1 = [0]*m\n",
        "Z1[0] = 1\n",
        "alive = 0\n",
        "for j in range(n):\n",
        "  for i in range(1,m):\n",
        "    Z1[i] = sum(np.random.geometric(p, size = Z1[i-1]) - 1)\n",
        "    if(Z1[i]==0):\n",
        "      break\n",
        "  if Z1[49]!=0:\n",
        "    print(Z1)\n",
        "    alive+=1\n",
        "  Z1 = [0]*m\n",
        "  Z1[0] = 1\n",
        "print(\"Выжили в докритическом (p=0.505):\", alive) #потому что количество доживших порядка (EX)^50 а EX<1\n",
        "\n",
        "\n",
        "#n = 100000\n",
        "p = 0.55\n",
        "Z1 = [0]*m\n",
        "Z1[0] = 1\n",
        "alive = 0\n",
        "for j in range(n):\n",
        "  for i in range(1,m):\n",
        "    Z1[i] = sum(np.random.geometric(p, size = Z1[i-1]) - 1)\n",
        "    if(Z1[i]==0):\n",
        "      break\n",
        "  if Z1[49]!=0:\n",
        "    print(Z1)\n",
        "    alive+=1\n",
        "  Z1 = [0]*m\n",
        "  Z1[0] = 1\n",
        "print(\"Выжили в докритическом (p=0.55):\", alive)# EX еще меньше\n",
        "\n"
      ],
      "metadata": {
        "colab": {
          "base_uri": "https://localhost:8080/"
        },
        "id": "qINPuwU3Y36I",
        "outputId": "e374ed4b-7fad-482e-9cb9-815fa510f633"
      },
      "execution_count": null,
      "outputs": [
        {
          "output_type": "stream",
          "name": "stdout",
          "text": [
            "[1, 3, 3, 6, 6, 5, 5, 6, 9, 10, 6, 10, 21, 22, 24, 22, 23, 21, 14, 10, 14, 13, 14, 14, 14, 17, 20, 31, 23, 24, 17, 20, 26, 22, 26, 26, 22, 22, 24, 22, 18, 23, 23, 12, 17, 21, 22, 27, 31, 25]\n",
            "[1, 2, 3, 7, 12, 6, 4, 8, 5, 5, 5, 11, 10, 12, 10, 10, 8, 10, 10, 12, 11, 16, 21, 24, 35, 59, 56, 60, 58, 49, 44, 32, 36, 52, 62, 53, 66, 90, 91, 80, 76, 86, 82, 69, 54, 46, 48, 51, 53, 42]\n",
            "[1, 5, 12, 14, 13, 17, 14, 12, 9, 11, 11, 9, 11, 17, 27, 33, 28, 28, 29, 38, 49, 42, 35, 32, 39, 45, 37, 31, 32, 36, 31, 36, 37, 40, 29, 28, 31, 33, 27, 23, 30, 24, 26, 23, 14, 8, 13, 18, 11, 15]\n",
            "[1, 1, 1, 2, 5, 8, 18, 26, 17, 24, 29, 25, 32, 47, 41, 50, 54, 42, 49, 47, 42, 55, 50, 30, 26, 28, 26, 27, 19, 12, 9, 8, 16, 11, 12, 12, 8, 7, 7, 3, 3, 4, 5, 3, 3, 6, 8, 10, 28, 32]\n",
            "[1, 1, 1, 2, 2, 3, 3, 1, 1, 3, 11, 11, 7, 10, 19, 29, 28, 28, 39, 38, 40, 36, 36, 40, 45, 35, 32, 35, 33, 36, 35, 28, 29, 32, 27, 18, 26, 30, 26, 29, 33, 55, 50, 55, 48, 35, 40, 29, 26, 18]\n",
            "[1, 3, 12, 5, 9, 10, 12, 17, 7, 10, 28, 24, 15, 16, 15, 21, 30, 37, 27, 15, 24, 21, 21, 21, 16, 21, 16, 27, 13, 9, 9, 6, 4, 5, 6, 9, 13, 14, 19, 14, 11, 19, 21, 24, 16, 22, 14, 9, 12, 14]\n",
            "[1, 2, 2, 1, 1, 4, 9, 13, 16, 17, 14, 10, 8, 17, 13, 21, 20, 24, 33, 38, 63, 47, 52, 33, 31, 29, 35, 37, 18, 28, 31, 25, 27, 34, 36, 35, 52, 72, 71, 78, 64, 52, 60, 72, 65, 95, 127, 130, 123, 149]\n",
            "[1, 6, 12, 16, 23, 21, 20, 25, 32, 47, 32, 27, 23, 26, 30, 33, 41, 50, 62, 65, 62, 50, 46, 34, 29, 34, 29, 26, 20, 37, 28, 30, 32, 35, 34, 38, 34, 44, 42, 36, 34, 29, 29, 27, 39, 40, 44, 32, 22, 33]\n",
            "[1, 2, 3, 12, 13, 19, 22, 20, 23, 29, 31, 32, 42, 49, 47, 50, 68, 63, 74, 72, 87, 99, 130, 109, 95, 99, 87, 100, 85, 78, 85, 101, 110, 102, 109, 97, 97, 77, 80, 72, 67, 66, 65, 63, 62, 65, 47, 37, 24, 25]\n",
            "[1, 1, 2, 3, 4, 6, 5, 3, 7, 8, 11, 20, 18, 25, 33, 39, 34, 41, 45, 34, 50, 38, 45, 48, 43, 46, 40, 71, 84, 93, 68, 72, 70, 65, 62, 63, 73, 55, 66, 65, 62, 63, 46, 40, 44, 52, 46, 57, 49, 69]\n",
            "[1, 3, 7, 16, 13, 6, 3, 7, 7, 14, 21, 30, 29, 35, 51, 43, 46, 44, 53, 73, 93, 76, 60, 50, 47, 39, 57, 54, 50, 50, 62, 41, 50, 43, 51, 49, 56, 66, 80, 72, 88, 75, 84, 85, 81, 84, 78, 77, 64, 63]\n",
            "[1, 1, 7, 12, 12, 17, 30, 29, 26, 25, 29, 33, 64, 49, 44, 39, 45, 28, 21, 24, 21, 16, 18, 15, 11, 15, 17, 19, 24, 25, 23, 24, 29, 35, 32, 28, 39, 48, 30, 39, 31, 35, 45, 43, 37, 26, 24, 18, 13, 14]\n",
            "[1, 3, 8, 6, 7, 16, 14, 19, 25, 26, 24, 27, 28, 21, 20, 19, 21, 21, 27, 32, 41, 28, 33, 31, 30, 46, 40, 36, 30, 19, 24, 23, 21, 20, 23, 29, 37, 41, 33, 32, 39, 52, 53, 62, 70, 84, 79, 58, 68, 81]\n",
            "[1, 5, 3, 3, 5, 8, 17, 21, 21, 31, 38, 38, 32, 34, 32, 34, 30, 42, 36, 29, 26, 34, 30, 37, 49, 39, 28, 17, 30, 22, 21, 29, 25, 15, 17, 25, 28, 41, 33, 37, 33, 27, 27, 37, 53, 53, 57, 51, 35, 47]\n",
            "[1, 4, 7, 9, 20, 18, 26, 25, 25, 27, 17, 16, 12, 20, 22, 26, 25, 18, 6, 7, 12, 7, 8, 12, 18, 17, 17, 20, 6, 9, 11, 9, 7, 7, 11, 24, 18, 12, 8, 10, 10, 13, 14, 22, 15, 12, 8, 7, 13, 11]\n",
            "[1, 2, 1, 1, 2, 1, 4, 3, 4, 9, 15, 30, 29, 25, 22, 25, 27, 19, 28, 26, 27, 10, 8, 13, 7, 17, 15, 11, 10, 9, 6, 10, 17, 17, 10, 13, 19, 18, 13, 12, 15, 17, 15, 16, 15, 15, 12, 15, 11, 6]\n",
            "[1, 4, 12, 16, 12, 15, 14, 22, 19, 22, 32, 37, 27, 21, 15, 19, 15, 14, 14, 11, 10, 6, 5, 12, 17, 16, 18, 16, 22, 24, 34, 27, 30, 20, 37, 42, 32, 52, 47, 45, 49, 40, 36, 45, 45, 35, 25, 19, 15, 12]\n",
            "[1, 3, 1, 2, 1, 3, 7, 6, 5, 5, 4, 4, 3, 3, 4, 4, 8, 16, 25, 27, 37, 33, 25, 32, 30, 27, 35, 19, 19, 16, 17, 28, 29, 26, 38, 41, 55, 36, 22, 31, 44, 40, 36, 34, 41, 60, 51, 50, 41, 38]\n",
            "[1, 3, 6, 8, 11, 17, 25, 21, 19, 19, 37, 32, 29, 15, 14, 24, 18, 19, 21, 19, 25, 44, 40, 35, 35, 26, 32, 30, 28, 28, 34, 39, 40, 33, 34, 39, 38, 27, 38, 28, 23, 18, 25, 27, 16, 20, 22, 29, 24, 22]\n",
            "[1, 2, 9, 7, 10, 8, 9, 14, 18, 27, 39, 28, 34, 28, 35, 29, 38, 37, 27, 22, 29, 31, 29, 33, 40, 46, 46, 48, 49, 64, 65, 63, 77, 79, 89, 82, 62, 77, 78, 92, 95, 117, 114, 144, 141, 154, 138, 113, 105, 114]\n",
            "[1, 1, 4, 5, 13, 25, 31, 31, 27, 31, 38, 45, 32, 29, 30, 49, 69, 65, 67, 53, 67, 70, 52, 41, 43, 56, 56, 40, 40, 42, 33, 47, 55, 60, 59, 54, 65, 47, 57, 59, 50, 51, 52, 61, 70, 79, 92, 64, 62, 58]\n",
            "[1, 8, 15, 15, 16, 11, 15, 13, 16, 23, 23, 24, 40, 50, 37, 59, 64, 81, 83, 81, 76, 67, 71, 65, 83, 87, 64, 50, 58, 53, 68, 62, 69, 88, 87, 83, 65, 58, 64, 70, 63, 42, 38, 45, 36, 53, 50, 42, 45, 53]\n",
            "[1, 2, 3, 2, 3, 7, 10, 8, 8, 8, 7, 17, 18, 16, 6, 9, 10, 14, 20, 26, 26, 35, 39, 58, 49, 56, 43, 51, 72, 56, 66, 72, 67, 71, 81, 70, 59, 60, 64, 66, 80, 87, 98, 89, 95, 97, 99, 132, 133, 132]\n",
            "Выжили в критическом: 23\n",
            "[1, 3, 3, 7, 11, 15, 9, 11, 5, 5, 7, 12, 10, 9, 6, 5, 9, 15, 27, 20, 8, 6, 8, 11, 16, 13, 13, 16, 22, 18, 21, 28, 28, 38, 47, 30, 33, 49, 53, 50, 46, 46, 44, 44, 43, 48, 62, 53, 61, 51]\n",
            "[1, 2, 4, 8, 9, 7, 7, 5, 7, 7, 12, 22, 20, 25, 20, 18, 29, 25, 33, 43, 32, 23, 18, 29, 19, 17, 19, 21, 19, 30, 29, 22, 42, 38, 41, 47, 63, 49, 43, 49, 47, 51, 51, 66, 45, 53, 60, 68, 63, 44]\n",
            "[1, 1, 2, 2, 5, 7, 8, 9, 7, 2, 1, 2, 9, 12, 10, 17, 22, 26, 27, 24, 19, 19, 25, 21, 21, 26, 35, 39, 39, 43, 38, 44, 42, 61, 52, 47, 45, 36, 35, 26, 25, 19, 21, 25, 31, 33, 25, 29, 25, 20]\n",
            "[1, 3, 2, 1, 2, 1, 1, 2, 7, 9, 5, 4, 6, 9, 11, 10, 16, 25, 28, 32, 31, 33, 49, 53, 38, 38, 45, 63, 52, 31, 24, 29, 31, 36, 30, 32, 24, 19, 25, 11, 10, 26, 33, 29, 45, 49, 46, 63, 53, 38]\n",
            "[1, 2, 3, 4, 3, 6, 8, 15, 10, 7, 8, 10, 7, 7, 10, 15, 15, 7, 9, 14, 21, 18, 22, 29, 23, 20, 16, 17, 26, 20, 12, 5, 6, 8, 14, 22, 24, 13, 16, 29, 39, 34, 31, 29, 21, 24, 18, 20, 23, 19]\n",
            "[1, 1, 2, 2, 2, 3, 9, 6, 4, 1, 2, 5, 4, 6, 7, 5, 7, 9, 11, 13, 13, 11, 6, 7, 9, 7, 5, 8, 9, 12, 10, 13, 10, 9, 13, 9, 10, 13, 9, 4, 4, 4, 4, 9, 8, 12, 8, 5, 7, 6]\n",
            "[1, 3, 5, 8, 10, 8, 10, 12, 15, 21, 23, 22, 24, 17, 17, 18, 15, 18, 23, 21, 31, 33, 25, 40, 33, 49, 45, 40, 41, 39, 40, 41, 39, 53, 41, 39, 47, 53, 44, 51, 54, 61, 58, 73, 82, 85, 70, 64, 65, 69]\n",
            "[1, 2, 5, 2, 3, 4, 4, 8, 13, 12, 10, 6, 12, 13, 15, 11, 8, 11, 5, 8, 5, 5, 5, 10, 8, 4, 5, 4, 5, 5, 9, 9, 4, 7, 12, 17, 22, 17, 11, 10, 4, 7, 3, 3, 2, 2, 1, 2, 2, 1]\n",
            "[1, 2, 10, 5, 9, 17, 27, 17, 15, 26, 25, 19, 17, 18, 16, 26, 25, 21, 19, 24, 21, 13, 11, 14, 8, 6, 6, 11, 9, 11, 7, 4, 2, 3, 2, 1, 1, 1, 1, 1, 2, 2, 8, 10, 3, 2, 2, 3, 6, 4]\n",
            "[1, 3, 6, 5, 5, 5, 5, 6, 8, 17, 18, 20, 20, 20, 20, 28, 47, 48, 38, 44, 48, 51, 58, 64, 49, 29, 17, 22, 25, 28, 25, 18, 10, 16, 8, 7, 10, 8, 9, 7, 21, 23, 30, 27, 28, 14, 12, 21, 18, 24]\n",
            "[1, 3, 2, 1, 5, 6, 7, 17, 20, 24, 23, 35, 36, 46, 36, 44, 54, 38, 37, 37, 50, 41, 33, 43, 45, 60, 51, 34, 35, 38, 31, 35, 26, 31, 41, 50, 45, 37, 60, 47, 53, 42, 50, 31, 28, 35, 32, 19, 19, 11]\n",
            "[1, 9, 10, 12, 19, 18, 21, 27, 27, 24, 26, 33, 28, 27, 40, 42, 52, 54, 66, 61, 61, 61, 52, 46, 28, 23, 36, 27, 22, 34, 33, 45, 34, 17, 17, 14, 23, 13, 19, 23, 21, 27, 24, 27, 25, 45, 41, 38, 41, 34]\n",
            "[1, 3, 4, 4, 4, 7, 11, 15, 18, 16, 17, 14, 17, 23, 30, 46, 34, 34, 24, 31, 30, 37, 46, 44, 45, 37, 43, 30, 34, 28, 32, 34, 31, 31, 25, 42, 42, 61, 54, 63, 64, 68, 79, 68, 51, 41, 48, 60, 40, 37]\n",
            "[1, 1, 3, 5, 10, 10, 9, 16, 24, 23, 20, 27, 27, 31, 40, 37, 27, 31, 29, 31, 37, 33, 31, 42, 46, 43, 35, 47, 46, 42, 34, 39, 42, 46, 62, 62, 75, 77, 80, 93, 99, 73, 66, 61, 57, 55, 51, 41, 41, 48]\n",
            "[1, 3, 2, 1, 2, 5, 11, 10, 15, 11, 12, 18, 11, 11, 11, 18, 23, 24, 29, 27, 19, 11, 13, 23, 12, 10, 18, 21, 22, 30, 24, 17, 23, 18, 19, 25, 23, 18, 21, 15, 20, 17, 15, 16, 24, 21, 21, 27, 23, 34]\n",
            "[1, 2, 8, 11, 10, 11, 4, 2, 3, 5, 8, 9, 14, 22, 13, 8, 9, 10, 10, 18, 14, 15, 17, 14, 24, 16, 18, 18, 17, 16, 14, 18, 21, 21, 22, 38, 52, 53, 52, 69, 61, 80, 91, 78, 63, 75, 60, 57, 50, 34]\n",
            "[1, 3, 2, 1, 5, 4, 2, 4, 2, 6, 4, 6, 7, 15, 11, 23, 17, 18, 16, 17, 19, 15, 25, 29, 21, 19, 13, 20, 20, 29, 28, 47, 48, 58, 55, 57, 56, 49, 55, 76, 84, 82, 87, 84, 76, 58, 45, 46, 29, 31]\n",
            "[1, 2, 10, 21, 27, 29, 30, 38, 34, 35, 51, 49, 75, 66, 69, 61, 73, 85, 107, 89, 78, 97, 104, 122, 125, 134, 117, 104, 100, 106, 103, 92, 92, 85, 93, 81, 60, 67, 56, 61, 47, 44, 33, 27, 25, 29, 30, 29, 38, 34]\n",
            "Выжили в докритическом (p=0.505): 18\n",
            "[1, 1, 3, 1, 1, 4, 5, 5, 7, 13, 16, 19, 16, 19, 17, 12, 5, 3, 6, 9, 10, 8, 10, 9, 7, 10, 11, 4, 5, 5, 4, 2, 2, 4, 6, 7, 3, 1, 4, 4, 6, 7, 6, 11, 5, 7, 5, 7, 7, 7]\n",
            "[1, 1, 3, 7, 10, 5, 14, 14, 10, 11, 9, 9, 7, 9, 12, 15, 13, 17, 22, 11, 12, 15, 13, 15, 9, 16, 12, 15, 14, 12, 13, 7, 1, 1, 3, 4, 7, 5, 2, 4, 4, 8, 14, 5, 5, 6, 3, 3, 8, 3]\n",
            "[1, 2, 3, 4, 6, 5, 5, 5, 4, 5, 4, 4, 7, 5, 5, 5, 6, 6, 9, 12, 8, 8, 8, 7, 9, 8, 5, 4, 1, 4, 18, 25, 17, 11, 8, 12, 5, 8, 10, 12, 14, 17, 19, 18, 9, 6, 4, 2, 3, 3]\n",
            "Выжили в докритическом (p=0.55): 3\n"
          ]
        }
      ]
    },
    {
      "cell_type": "code",
      "source": [
        "#3#\n",
        "p = 0.45\n",
        "n = 21\n",
        "Z = [0]*n\n",
        "Z[0] = 1\n",
        "plt.title(\"Траектории 20 поколений\")\n",
        "for j in range(10):\n",
        "  for i in range(1,n):\n",
        "    Z[i] = sum(rng.geometric(p, size=Z[i-1])) - Z[i-1]\n",
        "    if(Z[i]==0):\n",
        "      deaths+=1\n",
        "      break\n",
        "  ax = np.arange(0, n, 1)\n",
        "\n",
        "  for i in range(len(Z)):\n",
        "    if(Z[i]!=0):\n",
        "      Z[i] = math.log(Z[i])\n",
        "    else:\n",
        "      Z[i]=0\n",
        "  plt.plot(ax,Z)\n",
        "  Z = [0]*n\n",
        "  Z[0] = 1"
      ],
      "metadata": {
        "colab": {
          "base_uri": "https://localhost:8080/",
          "height": 452
        },
        "id": "i_HMMfnrKVPa",
        "outputId": "a62e4d4d-6fd6-4103-8d7b-530cf8f35abd"
      },
      "execution_count": null,
      "outputs": [
        {
          "output_type": "display_data",
          "data": {
            "text/plain": [
              "<Figure size 640x480 with 1 Axes>"
            ],
            "image/png": "[encoded data removed]"
          },
          "metadata": {}
        }
      ]
    },
    {
      "cell_type": "code",
      "source": [
        "#4#\n",
        "def bp_with_im(p, generations, sim, z_0=1):\n",
        "  ex_count = 0\n",
        "  for _ in range(sim):\n",
        "    population = [z_0]\n",
        "    for gen in range(generations-1):\n",
        "      z = sum(np.random.geometric(p) - 1 for _ in range(population[-1]))\n",
        "      population.append(z+1)\n",
        "  ex_prob = ex_count/sim\n",
        "  return ex_prob if sim > 1 else population\n",
        "\n",
        "generations = 6\n",
        "k = 5\n",
        "sim = 1000\n",
        "p = 0.6\n",
        "prob = np.zeros(k)\n",
        "for _ in range(sim):\n",
        "  m = bp_with_im(p, generations, 1)\n",
        "  if m[generations-1]<= k:\n",
        "    prob[m[generations-1]-1]+=1\n",
        "prob /= sum(prob)\n",
        "print(prob)"
      ],
      "metadata": {
        "colab": {
          "base_uri": "https://localhost:8080/"
        },
        "id": "iJTdR5RNQwrW",
        "outputId": "ff6a7b0b-5eaa-4715-b69c-457394e02caf"
      },
      "execution_count": null,
      "outputs": [
        {
          "output_type": "stream",
          "name": "stdout",
          "text": [
            "[0.42745536 0.24553571 0.17075893 0.1015625  0.0546875 ]\n"
          ]
        }
      ]
    },
    {
      "cell_type": "code",
      "source": [
        "#5#\n",
        "def process(n, p):\n",
        "  Z = [0]*n\n",
        "  Z[0] = 1\n",
        "  zer = 0 #количество частиц, породивших 0 частиц\n",
        "  ones = 0 #количество частиц, породивших 1 частицу\n",
        "  S_0 = 0 #\n",
        "  for i in range(1,n):\n",
        "    S = rng.geometric(p1, size=Z[i-1])\n",
        "    for k in range(len(S)):\n",
        "      S[k]=S[k]-1\n",
        "    S_0+=sum(S)\n",
        "    for j in range(len(S)):\n",
        "      if(S[j]==0):\n",
        "        zer+=1\n",
        "      elif(S[j]==1):\n",
        "        ones+=1\n",
        "    Z[i] = sum(S)\n",
        "  Z.insert(0, S_0)\n",
        "  Z.insert(0, zer)\n",
        "  Z.insert(0, ones)\n",
        "  return Z\n",
        "n = 20\n",
        "p1 = 0.5\n",
        "Z1 = process(n, p1)\n",
        "while Z1[n-1]==0:\n",
        "  Z1 = process(n, p1)\n",
        "print(\"Количество единиц, нулей и траектория процесса: \")\n",
        "print(Z1)\n",
        "S = 0\n",
        "for i in range(3, len(Z1)):\n",
        "  S += Z1[i]\n",
        "p_1 = Z1[0]/S\n",
        "p_2 = Z1[1]/S\n",
        "EX  = Z1[2]/S\n",
        "print(\"Численное cреднее число потомков:\", EX)\n",
        "print(\"Численная вероятность 1 частицы:\", p_1)\n",
        "print(\"Численная вероятность 0 частиц:\", p_2)\n",
        "#MLE\n",
        "r = S - Z1[n+2]\n",
        "S_1 = 2*(r-Z1[3])+Z1[n+2]+Z1[3]\n",
        "p = r/S_1\n",
        "print(\"Теоретическая оценка ОМП параметра p: \", p)\n",
        "print(\"Теоретическое cреднее число потомков:\", (1-p)/p)\n",
        "print(\"Теоретическая вероятность 1 частицы: \", (1-p)*p)\n",
        "print(\"Теоретическая вероятность 0 частиц: \", p)"
      ],
      "metadata": {
        "colab": {
          "base_uri": "https://localhost:8080/"
        },
        "id": "VeOQDlJLJTQS",
        "outputId": "1ea02c1f-9e38-4764-a008-7c7cd9434934"
      },
      "execution_count": null,
      "outputs": [
        {
          "output_type": "stream",
          "name": "stdout",
          "text": [
            "Количество единиц, нулей и траектория процесса: \n",
            "[46, 63, 146, 1, 5, 7, 4, 10, 13, 16, 14, 12, 10, 7, 11, 16, 7, 4, 2, 2, 2, 1, 3]\n",
            "Численное cреднее число потомков: 0.9931972789115646\n",
            "Численная вероятность 1 частицы: 0.3129251700680272\n",
            "Численная вероятность 0 частиц: 0.42857142857142855\n",
            "Теоретическая оценка ОМП параметра p:  0.496551724137931\n",
            "Теоретическое cреднее число потомков: 1.0138888888888888\n",
            "Теоретическая вероятность 1 частицы:  0.24998810939357907\n",
            "Теоретическая вероятность 0 частиц:  0.496551724137931\n"
          ]
        }
      ]
    }
  ]
}